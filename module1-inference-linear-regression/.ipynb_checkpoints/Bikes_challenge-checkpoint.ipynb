{
 "cells": [
  {
   "cell_type": "markdown",
   "id": "eda72933",
   "metadata": {},
   "source": [
    "# Bikes\n",
    "https://archive.ics.uci.edu/ml/datasets/bike+sharing+dataset"
   ]
  },
  {
   "cell_type": "markdown",
   "id": "b169df7a",
   "metadata": {},
   "source": [
    "Study and perform EDA on the bikes dataset."
   ]
  },
  {
   "cell_type": "code",
   "execution_count": null,
   "id": "7d506d40",
   "metadata": {},
   "outputs": [],
   "source": []
  },
  {
   "cell_type": "markdown",
   "id": "9fe24d80",
   "metadata": {},
   "source": [
    "Write a loop that iterates through all the numerical columns in the dataframe and returns the Pearson coefficient for all numerical values. "
   ]
  },
  {
   "cell_type": "code",
   "execution_count": null,
   "id": "d4ff69f5",
   "metadata": {},
   "outputs": [],
   "source": []
  },
  {
   "cell_type": "markdown",
   "id": "498343a9",
   "metadata": {},
   "source": [
    "Create a function that takes in any independent variable (that is numerical), fits a model with your target variable, and prints out only the slope, the intercept, and the p_value. "
   ]
  },
  {
   "cell_type": "code",
   "execution_count": null,
   "id": "56231a1f",
   "metadata": {},
   "outputs": [],
   "source": []
  },
  {
   "cell_type": "markdown",
   "id": "d43c48c9",
   "metadata": {},
   "source": [
    "Choose an appropriate feature to use for a linear model. Describe the results."
   ]
  },
  {
   "cell_type": "code",
   "execution_count": null,
   "id": "881a3d6c",
   "metadata": {},
   "outputs": [],
   "source": []
  },
  {
   "cell_type": "markdown",
   "id": "8f6594d2",
   "metadata": {},
   "source": [
    "Does transforming your feature to a logarithmic value improve your model? "
   ]
  },
  {
   "cell_type": "code",
   "execution_count": null,
   "id": "1baf65c7",
   "metadata": {},
   "outputs": [],
   "source": []
  }
 ],
 "metadata": {
  "kernelspec": {
   "display_name": "Python 3",
   "language": "python",
   "name": "python3"
  },
  "language_info": {
   "codemirror_mode": {
    "name": "ipython",
    "version": 3
   },
   "file_extension": ".py",
   "mimetype": "text/x-python",
   "name": "python",
   "nbconvert_exporter": "python",
   "pygments_lexer": "ipython3",
   "version": "3.8.8"
  }
 },
 "nbformat": 4,
 "nbformat_minor": 5
}
